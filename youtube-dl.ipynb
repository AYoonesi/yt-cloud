{
 "cells": [
  {
   "cell_type": "code",
   "execution_count": 1,
   "metadata": {},
   "outputs": [],
   "source": [
    "import youtube_dl\n",
    "\n",
    "import re\n",
    "bad_words = ['-->','</c>'] \n",
    "\n",
    "class MyLogger(object):\n",
    "    def debug(self, msg):\n",
    "        pass\n",
    "\n",
    "    def warning(self, msg):\n",
    "        pass\n",
    "\n",
    "    def error(self, msg):\n",
    "        print(msg)\n",
    "\n",
    "\n",
    "def my_hook(d):\n",
    "    if d['status'] == 'finished':\n",
    "        print('Done downloading, now converting ...')\n"
   ]
  },
  {
   "cell_type": "code",
   "execution_count": 2,
   "metadata": {},
   "outputs": [],
   "source": [
    "ydl_opts = {\n",
    "    'proxy': 'socks5://localhost:8585',\n",
    "    'writeautomaticsub': True,\n",
    "    'writesubtitles': True,\n",
    "    'skip_download': True,\n",
    "    'logger': MyLogger(),\n",
    "    'progress_hooks': [my_hook],\n",
    "}\n",
    "with youtube_dl.YoutubeDL(ydl_opts) as ydl:\n",
    "    status = ydl.download(['https://www.youtube.com/watch?v=0YP4n9G0qtQ'])\n",
    "\n",
    "with open('The Science of Love, with Dr. Helen Fisher _ Big Think-0YP4n9G0qtQ.en.vtt') as oldfile, open('seed.txt', 'w') as newfile:\n",
    "    for line in oldfile:\n",
    "        if not any(bad_word in line for bad_word in bad_words):\n",
    "            newfile.write(line)"
   ]
  },
  {
   "cell_type": "code",
   "execution_count": null,
   "metadata": {},
   "outputs": [],
   "source": []
  }
 ],
 "metadata": {
  "kernelspec": {
   "display_name": "Python 3.10.6 ('venv': venv)",
   "language": "python",
   "name": "python3"
  },
  "language_info": {
   "codemirror_mode": {
    "name": "ipython",
    "version": 3
   },
   "file_extension": ".py",
   "mimetype": "text/x-python",
   "name": "python",
   "nbconvert_exporter": "python",
   "pygments_lexer": "ipython3",
   "version": "3.10.6"
  },
  "orig_nbformat": 4,
  "vscode": {
   "interpreter": {
    "hash": "c56a2d696dbb65cae6fa84db1a1b495c5f8f82e79036585f90a921c449368f91"
   }
  }
 },
 "nbformat": 4,
 "nbformat_minor": 2
}
