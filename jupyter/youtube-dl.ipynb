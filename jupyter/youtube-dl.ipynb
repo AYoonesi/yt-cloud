{
 "cells": [
  {
   "cell_type": "code",
   "execution_count": 31,
   "metadata": {},
   "outputs": [],
   "source": [
    "import youtube_dl\n",
    "import re, os\n",
    "bad_words = ['-->','</c>'] \n",
    "\n",
    "class MyLogger(object):\n",
    "    def debug(self, msg):\n",
    "        pass\n",
    "\n",
    "    def warning(self, msg):\n",
    "        pass\n",
    "\n",
    "    def error(self, msg):\n",
    "        print(msg)\n",
    "\n",
    "\n",
    "def my_hook(d):\n",
    "    if d['status'] == 'finished':\n",
    "        print('Done downloading, now converting ...')\n"
   ]
  },
  {
   "cell_type": "code",
   "execution_count": 32,
   "metadata": {},
   "outputs": [],
   "source": [
    "'https://www.youtube.com/watch?v=ubV-8EYzTyc'\n",
    "video_id = 'ubV-8EYzTyc'\n",
    "ydl_opts = {\n",
    "    'proxy': 'socks5://localhost:8585',\n",
    "    'writeautomaticsub': True,\n",
    "    'writesubtitles': True,\n",
    "    'skip_download': True,\n",
    "    'logger': MyLogger(),\n",
    "    'progress_hooks': [my_hook],\n",
    "    'outtmpl': \"tmp/%(id)s/%(id)s\",\n",
    "}\n",
    "with youtube_dl.YoutubeDL(ydl_opts) as ydl:\n",
    "    status = ydl.download([f'https://www.youtube.com/watch?v={video_id}'])\n"
   ]
  },
  {
   "cell_type": "code",
   "execution_count": 33,
   "metadata": {},
   "outputs": [],
   "source": [
    "with open(f'tmp/{video_id}/{video_id}.en.vtt') as oldfile, open(f'tmp/{video_id}/{video_id}.txt', 'w') as newfile:\n",
    "    for line in oldfile:\n",
    "        if not any(bad_word in line for bad_word in bad_words):\n",
    "            newfile.write(line)\n",
    "try:\n",
    "    os.remove(f'tmp/{video_id}/{video_id}.en.vtt')\n",
    "except:\n",
    "    print('fuck')"
   ]
  }
 ],
 "metadata": {
  "kernelspec": {
   "display_name": "Python 3.10.6 ('venv': venv)",
   "language": "python",
   "name": "python3"
  },
  "language_info": {
   "codemirror_mode": {
    "name": "ipython",
    "version": 3
   },
   "file_extension": ".py",
   "mimetype": "text/x-python",
   "name": "python",
   "nbconvert_exporter": "python",
   "pygments_lexer": "ipython3",
   "version": "3.10.6"
  },
  "orig_nbformat": 4,
  "vscode": {
   "interpreter": {
    "hash": "c56a2d696dbb65cae6fa84db1a1b495c5f8f82e79036585f90a921c449368f91"
   }
  }
 },
 "nbformat": 4,
 "nbformat_minor": 2
}
